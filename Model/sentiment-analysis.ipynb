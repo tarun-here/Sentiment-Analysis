{
 "cells": [
  {
   "cell_type": "code",
   "execution_count": 1,
   "id": "472bb297",
   "metadata": {
    "_cell_guid": "b1076dfc-b9ad-4769-8c92-a6c4dae69d19",
    "_uuid": "8f2839f25d086af736a60e9eeb907d3b93b6e0e5",
    "execution": {
     "iopub.execute_input": "2024-09-16T18:11:56.018305Z",
     "iopub.status.busy": "2024-09-16T18:11:56.017998Z",
     "iopub.status.idle": "2024-09-16T18:12:01.119938Z",
     "shell.execute_reply": "2024-09-16T18:12:01.118286Z"
    },
    "papermill": {
     "duration": 5.11539,
     "end_time": "2024-09-16T18:12:01.122881",
     "exception": false,
     "start_time": "2024-09-16T18:11:56.007491",
     "status": "completed"
    },
    "tags": []
   },
   "outputs": [],
   "source": [
    "!python -m venv my_env "
   ]
  },
  {
   "cell_type": "markdown",
   "id": "beff277f",
   "metadata": {
    "papermill": {
     "duration": 0.011978,
     "end_time": "2024-09-16T18:12:01.146117",
     "exception": false,
     "start_time": "2024-09-16T18:12:01.134139",
     "status": "completed"
    },
    "tags": []
   },
   "source": [
    "# Importing Libraries"
   ]
  },
  {
   "cell_type": "code",
   "execution_count": 2,
   "id": "9f515815",
   "metadata": {
    "execution": {
     "iopub.execute_input": "2024-09-16T18:12:01.171057Z",
     "iopub.status.busy": "2024-09-16T18:12:01.170282Z",
     "iopub.status.idle": "2024-09-16T18:12:03.475972Z",
     "shell.execute_reply": "2024-09-16T18:12:03.475096Z"
    },
    "papermill": {
     "duration": 2.319556,
     "end_time": "2024-09-16T18:12:03.478140",
     "exception": false,
     "start_time": "2024-09-16T18:12:01.158584",
     "status": "completed"
    },
    "tags": []
   },
   "outputs": [],
   "source": [
    "import pandas as pd\n",
    "from sklearn.utils import resample\n",
    "import matplotlib.pyplot as plt\n",
    "import seaborn as sns\n",
    "from sklearn.preprocessing import LabelEncoder\n",
    "import string\n",
    "from sklearn.model_selection import train_test_split\n",
    "from imblearn.under_sampling import RandomUnderSampler\n",
    "from sklearn.metrics import classification_report\n",
    "import numpy as np\n",
    "from sklearn.svm import SVC\n",
    "from sklearn.preprocessing import LabelEncoder\n",
    "from sklearn.pipeline import Pipeline\n",
    "from sklearn.metrics import accuracy_score, classification_report, confusion_matrix\n",
    "from sklearn.base import BaseEstimator, TransformerMixin\n",
    "from sklearn.metrics import ConfusionMatrixDisplay"
   ]
  },
  {
   "cell_type": "markdown",
   "id": "0a6b5103",
   "metadata": {
    "papermill": {
     "duration": 0.008715,
     "end_time": "2024-09-16T18:12:03.495915",
     "exception": false,
     "start_time": "2024-09-16T18:12:03.487200",
     "status": "completed"
    },
    "tags": []
   },
   "source": [
    "# Data Preprocessing"
   ]
  },
  {
   "cell_type": "code",
   "execution_count": 3,
   "id": "1951e09c",
   "metadata": {
    "execution": {
     "iopub.execute_input": "2024-09-16T18:12:03.514733Z",
     "iopub.status.busy": "2024-09-16T18:12:03.514310Z",
     "iopub.status.idle": "2024-09-16T18:12:04.377996Z",
     "shell.execute_reply": "2024-09-16T18:12:04.377135Z"
    },
    "papermill": {
     "duration": 0.875986,
     "end_time": "2024-09-16T18:12:04.380644",
     "exception": false,
     "start_time": "2024-09-16T18:12:03.504658",
     "status": "completed"
    },
    "tags": []
   },
   "outputs": [],
   "source": [
    "df=pd.read_csv(\"/kaggle/input/sentiment-analysis-for-mental-health/Combined Data.csv\")"
   ]
  },
  {
   "cell_type": "code",
   "execution_count": 4,
   "id": "3926aca3",
   "metadata": {
    "execution": {
     "iopub.execute_input": "2024-09-16T18:12:04.400375Z",
     "iopub.status.busy": "2024-09-16T18:12:04.400056Z",
     "iopub.status.idle": "2024-09-16T18:12:04.418046Z",
     "shell.execute_reply": "2024-09-16T18:12:04.417145Z"
    },
    "papermill": {
     "duration": 0.02966,
     "end_time": "2024-09-16T18:12:04.420008",
     "exception": false,
     "start_time": "2024-09-16T18:12:04.390348",
     "status": "completed"
    },
    "tags": []
   },
   "outputs": [
    {
     "data": {
      "text/html": [
       "<div>\n",
       "<style scoped>\n",
       "    .dataframe tbody tr th:only-of-type {\n",
       "        vertical-align: middle;\n",
       "    }\n",
       "\n",
       "    .dataframe tbody tr th {\n",
       "        vertical-align: top;\n",
       "    }\n",
       "\n",
       "    .dataframe thead th {\n",
       "        text-align: right;\n",
       "    }\n",
       "</style>\n",
       "<table border=\"1\" class=\"dataframe\">\n",
       "  <thead>\n",
       "    <tr style=\"text-align: right;\">\n",
       "      <th></th>\n",
       "      <th>Unnamed: 0</th>\n",
       "      <th>statement</th>\n",
       "      <th>status</th>\n",
       "    </tr>\n",
       "  </thead>\n",
       "  <tbody>\n",
       "    <tr>\n",
       "      <th>0</th>\n",
       "      <td>0</td>\n",
       "      <td>oh my gosh</td>\n",
       "      <td>Anxiety</td>\n",
       "    </tr>\n",
       "    <tr>\n",
       "      <th>1</th>\n",
       "      <td>1</td>\n",
       "      <td>trouble sleeping, confused mind, restless hear...</td>\n",
       "      <td>Anxiety</td>\n",
       "    </tr>\n",
       "    <tr>\n",
       "      <th>2</th>\n",
       "      <td>2</td>\n",
       "      <td>All wrong, back off dear, forward doubt. Stay ...</td>\n",
       "      <td>Anxiety</td>\n",
       "    </tr>\n",
       "    <tr>\n",
       "      <th>3</th>\n",
       "      <td>3</td>\n",
       "      <td>I've shifted my focus to something else but I'...</td>\n",
       "      <td>Anxiety</td>\n",
       "    </tr>\n",
       "    <tr>\n",
       "      <th>4</th>\n",
       "      <td>4</td>\n",
       "      <td>I'm restless and restless, it's been a month n...</td>\n",
       "      <td>Anxiety</td>\n",
       "    </tr>\n",
       "  </tbody>\n",
       "</table>\n",
       "</div>"
      ],
      "text/plain": [
       "   Unnamed: 0                                          statement   status\n",
       "0           0                                         oh my gosh  Anxiety\n",
       "1           1  trouble sleeping, confused mind, restless hear...  Anxiety\n",
       "2           2  All wrong, back off dear, forward doubt. Stay ...  Anxiety\n",
       "3           3  I've shifted my focus to something else but I'...  Anxiety\n",
       "4           4  I'm restless and restless, it's been a month n...  Anxiety"
      ]
     },
     "execution_count": 4,
     "metadata": {},
     "output_type": "execute_result"
    }
   ],
   "source": [
    "df.head()"
   ]
  },
  {
   "cell_type": "code",
   "execution_count": 5,
   "id": "14c964c8",
   "metadata": {
    "execution": {
     "iopub.execute_input": "2024-09-16T18:12:04.438974Z",
     "iopub.status.busy": "2024-09-16T18:12:04.438479Z",
     "iopub.status.idle": "2024-09-16T18:12:04.499669Z",
     "shell.execute_reply": "2024-09-16T18:12:04.498811Z"
    },
    "papermill": {
     "duration": 0.072641,
     "end_time": "2024-09-16T18:12:04.501550",
     "exception": false,
     "start_time": "2024-09-16T18:12:04.428909",
     "status": "completed"
    },
    "tags": []
   },
   "outputs": [
    {
     "data": {
      "text/html": [
       "<div>\n",
       "<style scoped>\n",
       "    .dataframe tbody tr th:only-of-type {\n",
       "        vertical-align: middle;\n",
       "    }\n",
       "\n",
       "    .dataframe tbody tr th {\n",
       "        vertical-align: top;\n",
       "    }\n",
       "\n",
       "    .dataframe thead tr th {\n",
       "        text-align: left;\n",
       "    }\n",
       "\n",
       "    .dataframe thead tr:last-of-type th {\n",
       "        text-align: right;\n",
       "    }\n",
       "</style>\n",
       "<table border=\"1\" class=\"dataframe\">\n",
       "  <thead>\n",
       "    <tr>\n",
       "      <th></th>\n",
       "      <th colspan=\"8\" halign=\"left\">Unnamed: 0</th>\n",
       "    </tr>\n",
       "    <tr>\n",
       "      <th></th>\n",
       "      <th>count</th>\n",
       "      <th>mean</th>\n",
       "      <th>std</th>\n",
       "      <th>min</th>\n",
       "      <th>25%</th>\n",
       "      <th>50%</th>\n",
       "      <th>75%</th>\n",
       "      <th>max</th>\n",
       "    </tr>\n",
       "    <tr>\n",
       "      <th>status</th>\n",
       "      <th></th>\n",
       "      <th></th>\n",
       "      <th></th>\n",
       "      <th></th>\n",
       "      <th></th>\n",
       "      <th></th>\n",
       "      <th></th>\n",
       "      <th></th>\n",
       "    </tr>\n",
       "  </thead>\n",
       "  <tbody>\n",
       "    <tr>\n",
       "      <th>Anxiety</th>\n",
       "      <td>3888.0</td>\n",
       "      <td>33747.340535</td>\n",
       "      <td>17829.620748</td>\n",
       "      <td>0.0</td>\n",
       "      <td>34147.75</td>\n",
       "      <td>35119.5</td>\n",
       "      <td>52070.25</td>\n",
       "      <td>53042.0</td>\n",
       "    </tr>\n",
       "    <tr>\n",
       "      <th>Bipolar</th>\n",
       "      <td>2877.0</td>\n",
       "      <td>47813.527633</td>\n",
       "      <td>1930.643638</td>\n",
       "      <td>45394.0</td>\n",
       "      <td>46113.00</td>\n",
       "      <td>46832.0</td>\n",
       "      <td>49934.00</td>\n",
       "      <td>50653.0</td>\n",
       "    </tr>\n",
       "    <tr>\n",
       "      <th>Depression</th>\n",
       "      <td>15404.0</td>\n",
       "      <td>25155.582316</td>\n",
       "      <td>12527.152951</td>\n",
       "      <td>6982.0</td>\n",
       "      <td>14771.50</td>\n",
       "      <td>22053.5</td>\n",
       "      <td>38844.25</td>\n",
       "      <td>48287.0</td>\n",
       "    </tr>\n",
       "    <tr>\n",
       "      <th>Normal</th>\n",
       "      <td>16351.0</td>\n",
       "      <td>24046.638554</td>\n",
       "      <td>16583.557735</td>\n",
       "      <td>733.0</td>\n",
       "      <td>4820.50</td>\n",
       "      <td>30760.0</td>\n",
       "      <td>37371.50</td>\n",
       "      <td>45393.0</td>\n",
       "    </tr>\n",
       "    <tr>\n",
       "      <th>Personality disorder</th>\n",
       "      <td>1201.0</td>\n",
       "      <td>51254.000000</td>\n",
       "      <td>346.843144</td>\n",
       "      <td>50654.0</td>\n",
       "      <td>50954.00</td>\n",
       "      <td>51254.0</td>\n",
       "      <td>51554.00</td>\n",
       "      <td>51854.0</td>\n",
       "    </tr>\n",
       "    <tr>\n",
       "      <th>Stress</th>\n",
       "      <td>2669.0</td>\n",
       "      <td>37664.617834</td>\n",
       "      <td>10013.266598</td>\n",
       "      <td>27346.0</td>\n",
       "      <td>28618.00</td>\n",
       "      <td>29893.0</td>\n",
       "      <td>48801.00</td>\n",
       "      <td>49468.0</td>\n",
       "    </tr>\n",
       "    <tr>\n",
       "      <th>Suicidal</th>\n",
       "      <td>10653.0</td>\n",
       "      <td>18325.178635</td>\n",
       "      <td>7448.871777</td>\n",
       "      <td>6985.0</td>\n",
       "      <td>12277.00</td>\n",
       "      <td>17692.0</td>\n",
       "      <td>23332.00</td>\n",
       "      <td>37657.0</td>\n",
       "    </tr>\n",
       "  </tbody>\n",
       "</table>\n",
       "</div>"
      ],
      "text/plain": [
       "                     Unnamed: 0                                       \\\n",
       "                          count          mean           std      min   \n",
       "status                                                                 \n",
       "Anxiety                  3888.0  33747.340535  17829.620748      0.0   \n",
       "Bipolar                  2877.0  47813.527633   1930.643638  45394.0   \n",
       "Depression              15404.0  25155.582316  12527.152951   6982.0   \n",
       "Normal                  16351.0  24046.638554  16583.557735    733.0   \n",
       "Personality disorder     1201.0  51254.000000    346.843144  50654.0   \n",
       "Stress                   2669.0  37664.617834  10013.266598  27346.0   \n",
       "Suicidal                10653.0  18325.178635   7448.871777   6985.0   \n",
       "\n",
       "                                                            \n",
       "                           25%      50%       75%      max  \n",
       "status                                                      \n",
       "Anxiety               34147.75  35119.5  52070.25  53042.0  \n",
       "Bipolar               46113.00  46832.0  49934.00  50653.0  \n",
       "Depression            14771.50  22053.5  38844.25  48287.0  \n",
       "Normal                 4820.50  30760.0  37371.50  45393.0  \n",
       "Personality disorder  50954.00  51254.0  51554.00  51854.0  \n",
       "Stress                28618.00  29893.0  48801.00  49468.0  \n",
       "Suicidal              12277.00  17692.0  23332.00  37657.0  "
      ]
     },
     "execution_count": 5,
     "metadata": {},
     "output_type": "execute_result"
    }
   ],
   "source": [
    "df.groupby('status').describe()"
   ]
  },
  {
   "cell_type": "code",
   "execution_count": 6,
   "id": "cc7a4d0c",
   "metadata": {
    "execution": {
     "iopub.execute_input": "2024-09-16T18:12:04.521024Z",
     "iopub.status.busy": "2024-09-16T18:12:04.520736Z",
     "iopub.status.idle": "2024-09-16T18:12:04.526265Z",
     "shell.execute_reply": "2024-09-16T18:12:04.525035Z"
    },
    "papermill": {
     "duration": 0.017459,
     "end_time": "2024-09-16T18:12:04.528230",
     "exception": false,
     "start_time": "2024-09-16T18:12:04.510771",
     "status": "completed"
    },
    "tags": []
   },
   "outputs": [
    {
     "name": "stdout",
     "output_type": "stream",
     "text": [
      "Unnamed: 0     int64\n",
      "statement     object\n",
      "status        object\n",
      "dtype: object\n"
     ]
    }
   ],
   "source": [
    "print(df.dtypes)"
   ]
  },
  {
   "cell_type": "code",
   "execution_count": 7,
   "id": "3eff9fb8",
   "metadata": {
    "execution": {
     "iopub.execute_input": "2024-09-16T18:12:04.547758Z",
     "iopub.status.busy": "2024-09-16T18:12:04.547275Z",
     "iopub.status.idle": "2024-09-16T18:12:04.553443Z",
     "shell.execute_reply": "2024-09-16T18:12:04.552610Z"
    },
    "papermill": {
     "duration": 0.018063,
     "end_time": "2024-09-16T18:12:04.555383",
     "exception": false,
     "start_time": "2024-09-16T18:12:04.537320",
     "status": "completed"
    },
    "tags": []
   },
   "outputs": [],
   "source": [
    "df['statement'] = df['statement'].astype(str)"
   ]
  },
  {
   "cell_type": "markdown",
   "id": "ee3f84db",
   "metadata": {
    "papermill": {
     "duration": 0.008945,
     "end_time": "2024-09-16T18:12:04.573928",
     "exception": false,
     "start_time": "2024-09-16T18:12:04.564983",
     "status": "completed"
    },
    "tags": []
   },
   "source": [
    "## Cleaning"
   ]
  },
  {
   "cell_type": "markdown",
   "id": "6e172cf6",
   "metadata": {
    "papermill": {
     "duration": 0.008971,
     "end_time": "2024-09-16T18:12:04.592108",
     "exception": false,
     "start_time": "2024-09-16T18:12:04.583137",
     "status": "completed"
    },
    "tags": []
   },
   "source": [
    "We'll remove all punctuation and special characters, and also We'll clean the text by removing all punctuation and special characters, and then converting it to lowercase. This will help ensure that the model focuses on the core words and phrases without being distracted by irrelevant formatting.convert the text to lowercase if any. "
   ]
  },
  {
   "cell_type": "code",
   "execution_count": 8,
   "id": "7f68a952",
   "metadata": {
    "execution": {
     "iopub.execute_input": "2024-09-16T18:12:04.611854Z",
     "iopub.status.busy": "2024-09-16T18:12:04.611549Z",
     "iopub.status.idle": "2024-09-16T18:12:09.904506Z",
     "shell.execute_reply": "2024-09-16T18:12:09.903480Z"
    },
    "papermill": {
     "duration": 5.305728,
     "end_time": "2024-09-16T18:12:09.907030",
     "exception": false,
     "start_time": "2024-09-16T18:12:04.601302",
     "status": "completed"
    },
    "tags": []
   },
   "outputs": [],
   "source": [
    "def clean_text(text):\n",
    "    \"\"\"Removes all punctuation and special characters, converts text to lowercase.\"\"\"\n",
    "    text = text.translate(str.maketrans('', '', string.punctuation))\n",
    "    text = ''.join(c for c in text if c.isalnum() or c.isspace())\n",
    "    return text.lower() \n",
    "\n",
    "df['cleaned_statement'] = df['statement'].apply(clean_text)"
   ]
  },
  {
   "cell_type": "markdown",
   "id": "5213ac81",
   "metadata": {
    "papermill": {
     "duration": 0.009516,
     "end_time": "2024-09-16T18:12:09.926527",
     "exception": false,
     "start_time": "2024-09-16T18:12:09.917011",
     "status": "completed"
    },
    "tags": []
   },
   "source": [
    "## Label Encoding"
   ]
  },
  {
   "cell_type": "code",
   "execution_count": 9,
   "id": "dd6a1ef2",
   "metadata": {
    "execution": {
     "iopub.execute_input": "2024-09-16T18:12:09.948159Z",
     "iopub.status.busy": "2024-09-16T18:12:09.947794Z",
     "iopub.status.idle": "2024-09-16T18:12:09.968042Z",
     "shell.execute_reply": "2024-09-16T18:12:09.966941Z"
    },
    "papermill": {
     "duration": 0.033606,
     "end_time": "2024-09-16T18:12:09.970168",
     "exception": false,
     "start_time": "2024-09-16T18:12:09.936562",
     "status": "completed"
    },
    "tags": []
   },
   "outputs": [
    {
     "name": "stdout",
     "output_type": "stream",
     "text": [
      "Anxiety: 0\n",
      "Bipolar: 1\n",
      "Depression: 2\n",
      "Normal: 3\n",
      "Personality disorder: 4\n",
      "Stress: 5\n",
      "Suicidal: 6\n"
     ]
    }
   ],
   "source": [
    "le = LabelEncoder()\n",
    "df['status_encoded'] = le.fit_transform(df['status'])\n",
    "\n",
    "for i, status in enumerate(le.classes_):\n",
    "    print(f\"{status}: {i}\")"
   ]
  },
  {
   "cell_type": "markdown",
   "id": "84e29418",
   "metadata": {
    "papermill": {
     "duration": 0.009911,
     "end_time": "2024-09-16T18:12:09.989957",
     "exception": false,
     "start_time": "2024-09-16T18:12:09.980046",
     "status": "completed"
    },
    "tags": []
   },
   "source": [
    "## Analyse"
   ]
  },
  {
   "cell_type": "markdown",
   "id": "accc19ef",
   "metadata": {
    "papermill": {
     "duration": 0.009935,
     "end_time": "2024-09-16T18:12:10.009595",
     "exception": false,
     "start_time": "2024-09-16T18:12:09.999660",
     "status": "completed"
    },
    "tags": []
   },
   "source": [
    "As evident below, the dataset is imbalanced, meaning the classes are unevenly distributed. This can lead to biased models that perform poorly on the minority class."
   ]
  },
  {
   "cell_type": "code",
   "execution_count": 10,
   "id": "cda91cfc",
   "metadata": {
    "execution": {
     "iopub.execute_input": "2024-09-16T18:12:10.030356Z",
     "iopub.status.busy": "2024-09-16T18:12:10.030043Z",
     "iopub.status.idle": "2024-09-16T18:12:10.364166Z",
     "shell.execute_reply": "2024-09-16T18:12:10.363290Z"
    },
    "papermill": {
     "duration": 0.34629,
     "end_time": "2024-09-16T18:12:10.366120",
     "exception": false,
     "start_time": "2024-09-16T18:12:10.019830",
     "status": "completed"
    },
    "tags": []
   },
   "outputs": [
    {
     "data": {
      "image/png": "[encoded data removed]",
      "text/plain": [
       "<Figure size 1000x600 with 1 Axes>"
      ]
     },
     "metadata": {},
     "output_type": "display_data"
    }
   ],
   "source": [
    "status_counts = df['status'].value_counts()\n",
    "\n",
    "plt.figure(figsize=(10, 6)) \n",
    "sns.barplot(x=status_counts.index, y=status_counts.values)\n",
    "plt.xlabel('Status')\n",
    "plt.ylabel('Count')\n",
    "plt.title('Distribution of Status Categories')\n",
    "plt.xticks(rotation=45)\n",
    "plt.show()"
   ]
  },
  {
   "cell_type": "code",
   "execution_count": 11,
   "id": "d9111cb1",
   "metadata": {
    "execution": {
     "iopub.execute_input": "2024-09-16T18:12:10.388224Z",
     "iopub.status.busy": "2024-09-16T18:12:10.387916Z",
     "iopub.status.idle": "2024-09-16T18:12:10.401466Z",
     "shell.execute_reply": "2024-09-16T18:12:10.400580Z"
    },
    "papermill": {
     "duration": 0.02707,
     "end_time": "2024-09-16T18:12:10.403676",
     "exception": false,
     "start_time": "2024-09-16T18:12:10.376606",
     "status": "completed"
    },
    "tags": []
   },
   "outputs": [
    {
     "data": {
      "text/html": [
       "<div>\n",
       "<style scoped>\n",
       "    .dataframe tbody tr th:only-of-type {\n",
       "        vertical-align: middle;\n",
       "    }\n",
       "\n",
       "    .dataframe tbody tr th {\n",
       "        vertical-align: top;\n",
       "    }\n",
       "\n",
       "    .dataframe thead th {\n",
       "        text-align: right;\n",
       "    }\n",
       "</style>\n",
       "<table border=\"1\" class=\"dataframe\">\n",
       "  <thead>\n",
       "    <tr style=\"text-align: right;\">\n",
       "      <th></th>\n",
       "      <th>Unnamed: 0</th>\n",
       "      <th>statement</th>\n",
       "      <th>status</th>\n",
       "      <th>cleaned_statement</th>\n",
       "      <th>status_encoded</th>\n",
       "    </tr>\n",
       "  </thead>\n",
       "  <tbody>\n",
       "    <tr>\n",
       "      <th>33322</th>\n",
       "      <td>33322</td>\n",
       "      <td>well, you'll have hot fresh food tomorrow night.</td>\n",
       "      <td>Normal</td>\n",
       "      <td>well youll have hot fresh food tomorrow night</td>\n",
       "      <td>3</td>\n",
       "    </tr>\n",
       "    <tr>\n",
       "      <th>45785</th>\n",
       "      <td>45785</td>\n",
       "      <td>Afraid of being a hypochondriac The title says...</td>\n",
       "      <td>Bipolar</td>\n",
       "      <td>afraid of being a hypochondriac the title says...</td>\n",
       "      <td>1</td>\n",
       "    </tr>\n",
       "    <tr>\n",
       "      <th>47132</th>\n",
       "      <td>47132</td>\n",
       "      <td>Something I don't hear talked about a lot is h...</td>\n",
       "      <td>Depression</td>\n",
       "      <td>something i dont hear talked about a lot is ho...</td>\n",
       "      <td>2</td>\n",
       "    </tr>\n",
       "    <tr>\n",
       "      <th>27235</th>\n",
       "      <td>27235</td>\n",
       "      <td>Anyone here? I am on Lerivon..4th day..15mg..m...</td>\n",
       "      <td>Suicidal</td>\n",
       "      <td>anyone here i am on lerivon4th day15mgmy thoug...</td>\n",
       "      <td>6</td>\n",
       "    </tr>\n",
       "    <tr>\n",
       "      <th>14914</th>\n",
       "      <td>14914</td>\n",
       "      <td>Things have not gotten better, I have only got...</td>\n",
       "      <td>Suicidal</td>\n",
       "      <td>things have not gotten better i have only gott...</td>\n",
       "      <td>6</td>\n",
       "    </tr>\n",
       "  </tbody>\n",
       "</table>\n",
       "</div>"
      ],
      "text/plain": [
       "       Unnamed: 0                                          statement  \\\n",
       "33322       33322   well, you'll have hot fresh food tomorrow night.   \n",
       "45785       45785  Afraid of being a hypochondriac The title says...   \n",
       "47132       47132  Something I don't hear talked about a lot is h...   \n",
       "27235       27235  Anyone here? I am on Lerivon..4th day..15mg..m...   \n",
       "14914       14914  Things have not gotten better, I have only got...   \n",
       "\n",
       "           status                                  cleaned_statement  \\\n",
       "33322      Normal      well youll have hot fresh food tomorrow night   \n",
       "45785     Bipolar  afraid of being a hypochondriac the title says...   \n",
       "47132  Depression  something i dont hear talked about a lot is ho...   \n",
       "27235    Suicidal  anyone here i am on lerivon4th day15mgmy thoug...   \n",
       "14914    Suicidal  things have not gotten better i have only gott...   \n",
       "\n",
       "       status_encoded  \n",
       "33322               3  \n",
       "45785               1  \n",
       "47132               2  \n",
       "27235               6  \n",
       "14914               6  "
      ]
     },
     "execution_count": 11,
     "metadata": {},
     "output_type": "execute_result"
    }
   ],
   "source": [
    "df.sample(5)"
   ]
  },
  {
   "cell_type": "code",
   "execution_count": 12,
   "id": "6dd65005",
   "metadata": {
    "execution": {
     "iopub.execute_input": "2024-09-16T18:12:10.426471Z",
     "iopub.status.busy": "2024-09-16T18:12:10.426185Z",
     "iopub.status.idle": "2024-09-16T18:12:10.478298Z",
     "shell.execute_reply": "2024-09-16T18:12:10.477427Z"
    },
    "papermill": {
     "duration": 0.065479,
     "end_time": "2024-09-16T18:12:10.480537",
     "exception": false,
     "start_time": "2024-09-16T18:12:10.415058",
     "status": "completed"
    },
    "tags": []
   },
   "outputs": [
    {
     "data": {
      "text/plain": [
       "Unnamed: 0           0\n",
       "statement            0\n",
       "status               0\n",
       "cleaned_statement    0\n",
       "status_encoded       0\n",
       "dtype: int64"
      ]
     },
     "execution_count": 12,
     "metadata": {},
     "output_type": "execute_result"
    }
   ],
   "source": [
    "df.dropna(inplace=True)\n",
    "df.isnull().sum()"
   ]
  },
  {
   "cell_type": "code",
   "execution_count": 13,
   "id": "b3273c04",
   "metadata": {
    "execution": {
     "iopub.execute_input": "2024-09-16T18:12:10.502742Z",
     "iopub.status.busy": "2024-09-16T18:12:10.502422Z",
     "iopub.status.idle": "2024-09-16T18:12:10.506452Z",
     "shell.execute_reply": "2024-09-16T18:12:10.505620Z"
    },
    "papermill": {
     "duration": 0.017043,
     "end_time": "2024-09-16T18:12:10.508374",
     "exception": false,
     "start_time": "2024-09-16T18:12:10.491331",
     "status": "completed"
    },
    "tags": []
   },
   "outputs": [],
   "source": [
    "X = df['cleaned_statement']\n",
    "y = df['status_encoded']"
   ]
  },
  {
   "cell_type": "code",
   "execution_count": 14,
   "id": "a9b4137a",
   "metadata": {
    "execution": {
     "iopub.execute_input": "2024-09-16T18:12:10.530024Z",
     "iopub.status.busy": "2024-09-16T18:12:10.529702Z",
     "iopub.status.idle": "2024-09-16T18:12:10.533506Z",
     "shell.execute_reply": "2024-09-16T18:12:10.532676Z"
    },
    "papermill": {
     "duration": 0.016805,
     "end_time": "2024-09-16T18:12:10.535459",
     "exception": false,
     "start_time": "2024-09-16T18:12:10.518654",
     "status": "completed"
    },
    "tags": []
   },
   "outputs": [],
   "source": [
    "#X_train, X_test, y_train, y_test = train_test_split(X, y, test_size=0.20, random_state=42)\n",
    "#X_train1, X_val1, y_train1, y_val1 = train_test_split(X_train, y_train, test_size=0.20, random_state=42)\n",
    "\n",
    "#print(X_train1.shape,X_val1.shape,X_test.shape, y_train1.shape, y_val1.shape,y_test.shape)"
   ]
  },
  {
   "cell_type": "code",
   "execution_count": 15,
   "id": "6a13f189",
   "metadata": {
    "execution": {
     "iopub.execute_input": "2024-09-16T18:12:10.557337Z",
     "iopub.status.busy": "2024-09-16T18:12:10.557062Z",
     "iopub.status.idle": "2024-09-16T18:12:10.567776Z",
     "shell.execute_reply": "2024-09-16T18:12:10.566865Z"
    },
    "papermill": {
     "duration": 0.023833,
     "end_time": "2024-09-16T18:12:10.569732",
     "exception": false,
     "start_time": "2024-09-16T18:12:10.545899",
     "status": "completed"
    },
    "tags": []
   },
   "outputs": [
    {
     "name": "stdout",
     "output_type": "stream",
     "text": [
      "(37130,) (15913,) (37130,) (15913,)\n"
     ]
    }
   ],
   "source": [
    "X_train, X_test, y_train, y_test = train_test_split(X, y, test_size=0.30, random_state=42)\n",
    "print(X_train.shape,X_test.shape, y_train.shape,y_test.shape)"
   ]
  },
  {
   "cell_type": "markdown",
   "id": "2c636416",
   "metadata": {
    "papermill": {
     "duration": 0.010613,
     "end_time": "2024-09-16T18:12:10.590712",
     "exception": false,
     "start_time": "2024-09-16T18:12:10.580099",
     "status": "completed"
    },
    "tags": []
   },
   "source": [
    "## Resampling"
   ]
  },
  {
   "cell_type": "markdown",
   "id": "9f5d58cb",
   "metadata": {
    "papermill": {
     "duration": 0.010579,
     "end_time": "2024-09-16T18:12:10.611808",
     "exception": false,
     "start_time": "2024-09-16T18:12:10.601229",
     "status": "completed"
    },
    "tags": []
   },
   "source": [
    "To address the imbalance issue, we'll combine oversampling and undersampling techniques. This approach will help ensure that the dataset retains its essential characteristics while improving the representation of all classes, leading to a more balanced and effective model."
   ]
  },
  {
   "cell_type": "code",
   "execution_count": 16,
   "id": "fe7cbba0",
   "metadata": {
    "execution": {
     "iopub.execute_input": "2024-09-16T18:12:10.633711Z",
     "iopub.status.busy": "2024-09-16T18:12:10.633433Z",
     "iopub.status.idle": "2024-09-16T18:12:10.652784Z",
     "shell.execute_reply": "2024-09-16T18:12:10.651744Z"
    },
    "papermill": {
     "duration": 0.032848,
     "end_time": "2024-09-16T18:12:10.654935",
     "exception": false,
     "start_time": "2024-09-16T18:12:10.622087",
     "status": "completed"
    },
    "tags": []
   },
   "outputs": [
    {
     "name": "stdout",
     "output_type": "stream",
     "text": [
      "y_train\n",
      "3    11000\n",
      "2    10495\n",
      "6     8000\n",
      "0     5000\n",
      "1     3500\n",
      "5     3500\n",
      "4     2000\n",
      "Name: count, dtype: int64\n"
     ]
    }
   ],
   "source": [
    "data = pd.DataFrame({'x_train': X_train, 'y_train': y_train})\n",
    "grouped_data = data.groupby('y_train')\n",
    "\n",
    "desired_counts = {\n",
    "    0: 5000,\n",
    "    1: 3500,\n",
    "    2: 10495,\n",
    "    3: 11000,\n",
    "    4: 2000,\n",
    "    5: 3500,\n",
    "    6: 8000\n",
    "}\n",
    "\n",
    "resampled_data = pd.concat([\n",
    "    grouped_data.get_group(i).sample(n=desired_counts[i], replace=True)\n",
    "    for i in desired_counts.keys()\n",
    "])\n",
    "\n",
    "balanced_x_train = resampled_data['x_train']\n",
    "balanced_y_train = resampled_data['y_train']\n",
    "\n",
    "print(balanced_y_train.value_counts())"
   ]
  },
  {
   "cell_type": "code",
   "execution_count": 17,
   "id": "817e2b9e",
   "metadata": {
    "execution": {
     "iopub.execute_input": "2024-09-16T18:12:10.677579Z",
     "iopub.status.busy": "2024-09-16T18:12:10.677301Z",
     "iopub.status.idle": "2024-09-16T18:16:47.447669Z",
     "shell.execute_reply": "2024-09-16T18:16:47.446492Z"
    },
    "papermill": {
     "duration": 276.784105,
     "end_time": "2024-09-16T18:16:47.450208",
     "exception": false,
     "start_time": "2024-09-16T18:12:10.666103",
     "status": "completed"
    },
    "tags": []
   },
   "outputs": [
    {
     "name": "stdout",
     "output_type": "stream",
     "text": [
      "\u001b[31mERROR: pip's dependency resolver does not currently take into account all the packages that are installed. This behaviour is the source of the following dependency conflicts.\r\n",
      "tensorflow-decision-forests 1.9.1 requires tensorflow~=2.16.1, but you have tensorflow 2.15.0 which is incompatible.\r\n",
      "tensorflow-decision-forests 1.9.1 requires tf-keras~=2.16, but you have tf-keras 2.15.1 which is incompatible.\r\n",
      "tensorflow-serving-api 2.16.1 requires tensorflow<3,>=2.16.1, but you have tensorflow 2.15.0 which is incompatible.\r\n",
      "tensorstore 0.1.64 requires ml-dtypes>=0.3.1, but you have ml-dtypes 0.2.0 which is incompatible.\u001b[0m\u001b[31m\r\n",
      "\u001b[0m"
     ]
    }
   ],
   "source": [
    "!pip install tensorflow==2.15.0 tensorflow-text==2.15.0 tensorflow-hub==0.16.1 -q"
   ]
  },
  {
   "cell_type": "code",
   "execution_count": 18,
   "id": "114c32b2",
   "metadata": {
    "execution": {
     "iopub.execute_input": "2024-09-16T18:16:47.473264Z",
     "iopub.status.busy": "2024-09-16T18:16:47.472950Z",
     "iopub.status.idle": "2024-09-16T18:16:52.865229Z",
     "shell.execute_reply": "2024-09-16T18:16:52.864264Z"
    },
    "papermill": {
     "duration": 5.406455,
     "end_time": "2024-09-16T18:16:52.867472",
     "exception": false,
     "start_time": "2024-09-16T18:16:47.461017",
     "status": "completed"
    },
    "tags": []
   },
   "outputs": [
    {
     "name": "stderr",
     "output_type": "stream",
     "text": [
      "2024-09-16 18:16:47.939452: E external/local_xla/xla/stream_executor/cuda/cuda_dnn.cc:9261] Unable to register cuDNN factory: Attempting to register factory for plugin cuDNN when one has already been registered\n",
      "2024-09-16 18:16:47.939509: E external/local_xla/xla/stream_executor/cuda/cuda_fft.cc:607] Unable to register cuFFT factory: Attempting to register factory for plugin cuFFT when one has already been registered\n",
      "2024-09-16 18:16:47.940908: E external/local_xla/xla/stream_executor/cuda/cuda_blas.cc:1515] Unable to register cuBLAS factory: Attempting to register factory for plugin cuBLAS when one has already been registered\n"
     ]
    }
   ],
   "source": [
    "import tensorflow as tf\n",
    "import tensorflow_hub as hub\n",
    "import tensorflow_text as text\n",
    "from tensorflow.keras.layers import Input"
   ]
  },
  {
   "cell_type": "code",
   "execution_count": 19,
   "id": "6f299a77",
   "metadata": {
    "execution": {
     "iopub.execute_input": "2024-09-16T18:16:52.890788Z",
     "iopub.status.busy": "2024-09-16T18:16:52.890223Z",
     "iopub.status.idle": "2024-09-16T18:17:11.130990Z",
     "shell.execute_reply": "2024-09-16T18:17:11.130191Z"
    },
    "papermill": {
     "duration": 18.254797,
     "end_time": "2024-09-16T18:17:11.133334",
     "exception": false,
     "start_time": "2024-09-16T18:16:52.878537",
     "status": "completed"
    },
    "tags": []
   },
   "outputs": [],
   "source": [
    "bert_preprocess = hub.KerasLayer(\"https://tfhub.dev/tensorflow/bert_en_uncased_preprocess/3\")\n",
    "bert_encoder = hub.KerasLayer(\"https://tfhub.dev/tensorflow/bert_en_uncased_L-12_H-768_A-12/4\")"
   ]
  },
  {
   "cell_type": "markdown",
   "id": "ba3ebf9e",
   "metadata": {
    "papermill": {
     "duration": 0.010439,
     "end_time": "2024-09-16T18:17:11.154978",
     "exception": false,
     "start_time": "2024-09-16T18:17:11.144539",
     "status": "completed"
    },
    "tags": []
   },
   "source": [
    "# Model Building"
   ]
  },
  {
   "cell_type": "markdown",
   "id": "01790499",
   "metadata": {
    "papermill": {
     "duration": 0.010403,
     "end_time": "2024-09-16T18:17:11.175902",
     "exception": false,
     "start_time": "2024-09-16T18:17:11.165499",
     "status": "completed"
    },
    "tags": []
   },
   "source": [
    "We'll start by extracting contextual information with BERT, followed by using GRU and dense layers for classification."
   ]
  },
  {
   "cell_type": "code",
   "execution_count": 20,
   "id": "dc4ba036",
   "metadata": {
    "execution": {
     "iopub.execute_input": "2024-09-16T18:17:11.199299Z",
     "iopub.status.busy": "2024-09-16T18:17:11.198383Z",
     "iopub.status.idle": "2024-09-16T18:17:12.397101Z",
     "shell.execute_reply": "2024-09-16T18:17:12.394382Z"
    },
    "papermill": {
     "duration": 1.226051,
     "end_time": "2024-09-16T18:17:12.412428",
     "exception": false,
     "start_time": "2024-09-16T18:17:11.186377",
     "status": "completed"
    },
    "tags": []
   },
   "outputs": [
    {
     "name": "stdout",
     "output_type": "stream",
     "text": [
      "Model: \"model\"\n",
      "__________________________________________________________________________________________________\n",
      " Layer (type)                Output Shape                 Param #   Connected to                  \n",
      "==================================================================================================\n",
      " text (InputLayer)           [(None,)]                    0         []                            \n",
      "                                                                                                  \n",
      " keras_layer (KerasLayer)    {'input_type_ids': (None,    0         ['text[0][0]']                \n",
      "                             128),                                                                \n",
      "                              'input_word_ids': (None,                                            \n",
      "                             128),                                                                \n",
      "                              'input_mask': (None, 128)                                           \n",
      "                             }                                                                    \n",
      "                                                                                                  \n",
      " keras_layer_1 (KerasLayer)  {'pooled_output': (None, 7   1094822   ['keras_layer[0][0]',         \n",
      "                             68),                         41         'keras_layer[0][1]',         \n",
      "                              'default': (None, 768),                'keras_layer[0][2]']         \n",
      "                              'encoder_outputs': [(None                                           \n",
      "                             , 128, 768),                                                         \n",
      "                              (None, 128, 768),                                                   \n",
      "                              (None, 128, 768),                                                   \n",
      "                              (None, 128, 768),                                                   \n",
      "                              (None, 128, 768),                                                   \n",
      "                              (None, 128, 768),                                                   \n",
      "                              (None, 128, 768),                                                   \n",
      "                              (None, 128, 768),                                                   \n",
      "                              (None, 128, 768),                                                   \n",
      "                              (None, 128, 768),                                                   \n",
      "                              (None, 128, 768),                                                   \n",
      "                              (None, 128, 768)],                                                  \n",
      "                              'sequence_output': (None,                                           \n",
      "                              128, 768)}                                                          \n",
      "                                                                                                  \n",
      " gru (GRU)                   (None, 128)                  344832    ['keras_layer_1[0][14]']      \n",
      "                                                                                                  \n",
      " dropout (Dropout)           (None, 128)                  0         ['gru[0][0]']                 \n",
      "                                                                                                  \n",
      " dense (Dense)               (None, 64)                   8256      ['dropout[0][0]']             \n",
      "                                                                                                  \n",
      " dense_1 (Dense)             (None, 7)                    455       ['dense[0][0]']               \n",
      "                                                                                                  \n",
      "==================================================================================================\n",
      "Total params: 109835784 (418.99 MB)\n",
      "Trainable params: 353543 (1.35 MB)\n",
      "Non-trainable params: 109482241 (417.64 MB)\n",
      "__________________________________________________________________________________________________\n"
     ]
    }
   ],
   "source": [
    "text_input = tf.keras.layers.Input(shape=(), dtype=tf.string, name='text')\n",
    "preprocessed_text = bert_preprocess(text_input)\n",
    "outputs = bert_encoder(preprocessed_text)\n",
    "\n",
    "sequence_output = outputs['sequence_output']\n",
    "\n",
    "\n",
    "gru = tf.keras.layers.GRU(128, return_sequences=False)(sequence_output)\n",
    "dropout1 = tf.keras.layers.Dropout(0.3)(gru)\n",
    "dense1 = tf.keras.layers.Dense(64, activation='relu')(dropout1) \n",
    "x = tf.keras.layers.Dense(7, activation='softmax')(dense1) \n",
    "\n",
    "model = tf.keras.Model(inputs=[text_input], outputs=x)\n",
    "\n",
    "model.summary()"
   ]
  },
  {
   "cell_type": "code",
   "execution_count": 21,
   "id": "6a877e63",
   "metadata": {
    "execution": {
     "iopub.execute_input": "2024-09-16T18:17:12.446618Z",
     "iopub.status.busy": "2024-09-16T18:17:12.445641Z",
     "iopub.status.idle": "2024-09-16T18:56:40.390579Z",
     "shell.execute_reply": "2024-09-16T18:56:40.389583Z"
    },
    "papermill": {
     "duration": 2367.965038,
     "end_time": "2024-09-16T18:56:40.392619",
     "exception": false,
     "start_time": "2024-09-16T18:17:12.427581",
     "status": "completed"
    },
    "tags": []
   },
   "outputs": [
    {
     "name": "stdout",
     "output_type": "stream",
     "text": [
      "Epoch 1/5\n"
     ]
    },
    {
     "name": "stderr",
     "output_type": "stream",
     "text": [
      "WARNING: All log messages before absl::InitializeLog() is called are written to STDERR\n",
      "I0000 00:00:1726510645.128567      86 device_compiler.h:186] Compiled cluster using XLA!  This line is logged at most once for the lifetime of the process.\n"
     ]
    },
    {
     "name": "stdout",
     "output_type": "stream",
     "text": [
      "680/680 [==============================] - 480s 688ms/step - loss: 0.8583 - accuracy: 0.6651\n",
      "Epoch 2/5\n",
      "680/680 [==============================] - 472s 694ms/step - loss: 0.5204 - accuracy: 0.7975\n",
      "Epoch 3/5\n",
      "680/680 [==============================] - 472s 694ms/step - loss: 0.3837 - accuracy: 0.8504\n",
      "Epoch 4/5\n",
      "680/680 [==============================] - 472s 694ms/step - loss: 0.2885 - accuracy: 0.8884\n",
      "Epoch 5/5\n",
      "680/680 [==============================] - 472s 694ms/step - loss: 0.2204 - accuracy: 0.9180\n"
     ]
    },
    {
     "data": {
      "text/plain": [
       "<keras.src.callbacks.History at 0x7d14f5fc5870>"
      ]
     },
     "execution_count": 21,
     "metadata": {},
     "output_type": "execute_result"
    }
   ],
   "source": [
    "model.compile(optimizer='adam',\n",
    "              loss='sparse_categorical_crossentropy',\n",
    "              metrics=['accuracy'])\n",
    "\n",
    "model.fit(balanced_x_train,\n",
    "          balanced_y_train,\n",
    "          epochs=5,\n",
    "          batch_size=64  )"
   ]
  },
  {
   "cell_type": "markdown",
   "id": "1de8f7e7",
   "metadata": {
    "papermill": {
     "duration": 0.29841,
     "end_time": "2024-09-16T18:56:40.981392",
     "exception": false,
     "start_time": "2024-09-16T18:56:40.682982",
     "status": "completed"
    },
    "tags": []
   },
   "source": [
    "# Inference"
   ]
  },
  {
   "cell_type": "code",
   "execution_count": 22,
   "id": "5f145449",
   "metadata": {
    "execution": {
     "iopub.execute_input": "2024-09-16T18:56:41.596142Z",
     "iopub.status.busy": "2024-09-16T18:56:41.595386Z",
     "iopub.status.idle": "2024-09-16T18:59:22.441701Z",
     "shell.execute_reply": "2024-09-16T18:59:22.440545Z"
    },
    "papermill": {
     "duration": 161.178094,
     "end_time": "2024-09-16T18:59:22.444310",
     "exception": false,
     "start_time": "2024-09-16T18:56:41.266216",
     "status": "completed"
    },
    "tags": []
   },
   "outputs": [
    {
     "name": "stdout",
     "output_type": "stream",
     "text": [
      "498/498 [==============================] - 160s 320ms/step\n",
      "Classification Report (Test Set):\n",
      "               precision    recall  f1-score   support\n",
      "\n",
      "           0       0.89      0.73      0.80      1157\n",
      "           1       0.80      0.76      0.78       864\n",
      "           2       0.69      0.79      0.74      4608\n",
      "           3       0.92      0.94      0.93      4993\n",
      "           4       0.59      0.69      0.64       370\n",
      "           5       0.71      0.68      0.69       819\n",
      "           6       0.70      0.58      0.63      3102\n",
      "\n",
      "    accuracy                           0.78     15913\n",
      "   macro avg       0.76      0.74      0.74     15913\n",
      "weighted avg       0.78      0.78      0.78     15913\n",
      "\n"
     ]
    }
   ],
   "source": [
    "y_pred_test = model.predict(X_test)\n",
    "y_pred_test_classes = np.argmax(y_pred_test, axis=1)\n",
    "\n",
    "print(\"Classification Report (Test Set):\\n\", classification_report(y_test, y_pred_test_classes))"
   ]
  },
  {
   "cell_type": "code",
   "execution_count": 23,
   "id": "1cb38522",
   "metadata": {
    "execution": {
     "iopub.execute_input": "2024-09-16T18:59:23.142801Z",
     "iopub.status.busy": "2024-09-16T18:59:23.141900Z",
     "iopub.status.idle": "2024-09-16T18:59:23.534546Z",
     "shell.execute_reply": "2024-09-16T18:59:23.533745Z"
    },
    "papermill": {
     "duration": 0.756853,
     "end_time": "2024-09-16T18:59:23.536774",
     "exception": false,
     "start_time": "2024-09-16T18:59:22.779921",
     "status": "completed"
    },
    "tags": []
   },
   "outputs": [
    {
     "data": {
      "text/plain": [
       "<Figure size 800x600 with 0 Axes>"
      ]
     },
     "metadata": {},
     "output_type": "display_data"
    },
    {
     "data": {
      "image/png": "[encoded data removed]",
      "text/plain": [
       "<Figure size 640x480 with 2 Axes>"
      ]
     },
     "metadata": {},
     "output_type": "display_data"
    }
   ],
   "source": [
    "cm = confusion_matrix(y_test, y_pred_test_classes)\n",
    "plt.figure(figsize=(8, 6))\n",
    "disp = ConfusionMatrixDisplay(cm, display_labels=np.unique(y_test))\n",
    "disp.plot(cmap='Blues')\n",
    "plt.title('Confusion Matrix')\n",
    "plt.show()"
   ]
  },
  {
   "cell_type": "markdown",
   "id": "bf8b78d9",
   "metadata": {
    "papermill": {
     "duration": 0.319563,
     "end_time": "2024-09-16T18:59:24.183664",
     "exception": false,
     "start_time": "2024-09-16T18:59:23.864101",
     "status": "completed"
    },
    "tags": []
   },
   "source": [
    "# Conclusion"
   ]
  },
  {
   "cell_type": "markdown",
   "id": "0bd9e036",
   "metadata": {
    "papermill": {
     "duration": 0.324574,
     "end_time": "2024-09-16T18:59:24.828112",
     "exception": false,
     "start_time": "2024-09-16T18:59:24.503538",
     "status": "completed"
    },
    "tags": []
   },
   "source": [
    "Overall the model got good accuracy.\n",
    "\n",
    "But the performance on training was much higher than the test set, suggesting overfitting. To fix this, I'll try different things in further versions like adding more data for specific class using other techniques, changing number of layers, adding more dropout to stop it from learning too much. \n",
    "\n",
    "I'll also look at the confusion matrix to see which types of data the model is getting wrong and try to fix that. These changes will be included in the next version of the model."
   ]
  },
  {
   "cell_type": "markdown",
   "id": "0193a09f",
   "metadata": {
    "papermill": {
     "duration": 0.320605,
     "end_time": "2024-09-16T18:59:25.469617",
     "exception": false,
     "start_time": "2024-09-16T18:59:25.149012",
     "status": "completed"
    },
    "tags": []
   },
   "source": [
    "# Done :)"
   ]
  }
 ],
 "metadata": {
  "kaggle": {
   "accelerator": "nvidiaTeslaT4",
   "dataSources": [
    {
     "datasetId": 5338273,
     "sourceId": 8870083,
     "sourceType": "datasetVersion"
    }
   ],
   "dockerImageVersionId": 30762,
   "isGpuEnabled": true,
   "isInternetEnabled": true,
   "language": "python",
   "sourceType": "notebook"
  },
  "kernelspec": {
   "display_name": "Python 3",
   "language": "python",
   "name": "python3"
  },
  "language_info": {
   "codemirror_mode": {
    "name": "ipython",
    "version": 3
   },
   "file_extension": ".py",
   "mimetype": "text/x-python",
   "name": "python",
   "nbconvert_exporter": "python",
   "pygments_lexer": "ipython3",
   "version": "3.10.14"
  },
  "papermill": {
   "default_parameters": {},
   "duration": 2855.816723,
   "end_time": "2024-09-16T18:59:29.273318",
   "environment_variables": {},
   "exception": null,
   "input_path": "__notebook__.ipynb",
   "output_path": "__notebook__.ipynb",
   "parameters": {},
   "start_time": "2024-09-16T18:11:53.456595",
   "version": "2.6.0"
  }
 },
 "nbformat": 4,
 "nbformat_minor": 5
}
